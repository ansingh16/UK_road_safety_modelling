{
 "cells": [
  {
   "cell_type": "markdown",
   "id": "0893736e",
   "metadata": {},
   "source": [
    "## Model for imbalanced Dataset"
   ]
  },
  {
   "cell_type": "code",
   "execution_count": 1,
   "id": "78e7722e",
   "metadata": {},
   "outputs": [],
   "source": [
    "# load libraries\n",
    "import pandas as pd\n",
    "import numpy as np\n",
    "import plotly.express as px\n",
    "import pathlib\n",
    "import seaborn as sns\n",
    "import matplotlib.pyplot as plt\n",
    "from category_encoders import OrdinalEncoder, OneHotEncoder\n",
    "from sklearn.model_selection import train_test_split\n",
    "from sklearn.pipeline import Pipeline, make_pipeline\n",
    "from sklearn.tree import DecisionTreeClassifier, plot_tree\n",
    "from sklearn.ensemble import RandomForestClassifier\n",
    "from imblearn.over_sampling import RandomOverSampler\n",
    "from imblearn.under_sampling import RandomUnderSampler\n",
    "from sklearn.model_selection import GridSearchCV, cross_val_score, train_test_split\n",
    "import tqdm"
   ]
  },
  {
   "cell_type": "markdown",
   "id": "d1ab63df",
   "metadata": {},
   "source": [
    "### Train-Validation-Test Split"
   ]
  },
  {
   "cell_type": "code",
   "execution_count": 2,
   "id": "05546f8c",
   "metadata": {},
   "outputs": [
    {
     "name": "stderr",
     "output_type": "stream",
     "text": [
      "/home/ankit/DS_projects/UK_road_safety_modelling/notebooks/UK_road_safety.py:118: FutureWarning: A value is trying to be set on a copy of a DataFrame or Series through chained assignment using an inplace method.\n",
      "The behavior will change in pandas 3.0. This inplace method will never work because the intermediate object on which we are setting values always behaves as a copy.\n",
      "\n",
      "For example, when doing 'df[col].method(value, inplace=True)', try using 'df.method({col: value}, inplace=True)' or df[col] = df[col].method(value) instead, to perform the operation inplace on the original object.\n",
      "\n",
      "\n",
      "  self.df[col].fillna(self.df[col].median(), inplace=True)\n",
      "/home/ankit/DS_projects/UK_road_safety_modelling/notebooks/UK_road_safety.py:118: FutureWarning: A value is trying to be set on a copy of a DataFrame or Series through chained assignment using an inplace method.\n",
      "The behavior will change in pandas 3.0. This inplace method will never work because the intermediate object on which we are setting values always behaves as a copy.\n",
      "\n",
      "For example, when doing 'df[col].method(value, inplace=True)', try using 'df.method({col: value}, inplace=True)' or df[col] = df[col].method(value) instead, to perform the operation inplace on the original object.\n",
      "\n",
      "\n",
      "  self.df[col].fillna(self.df[col].median(), inplace=True)\n",
      "/home/ankit/DS_projects/UK_road_safety_modelling/notebooks/UK_road_safety.py:118: FutureWarning: A value is trying to be set on a copy of a DataFrame or Series through chained assignment using an inplace method.\n",
      "The behavior will change in pandas 3.0. This inplace method will never work because the intermediate object on which we are setting values always behaves as a copy.\n",
      "\n",
      "For example, when doing 'df[col].method(value, inplace=True)', try using 'df.method({col: value}, inplace=True)' or df[col] = df[col].method(value) instead, to perform the operation inplace on the original object.\n",
      "\n",
      "\n",
      "  self.df[col].fillna(self.df[col].median(), inplace=True)\n",
      "/home/ankit/DS_projects/UK_road_safety_modelling/notebooks/UK_road_safety.py:118: FutureWarning: A value is trying to be set on a copy of a DataFrame or Series through chained assignment using an inplace method.\n",
      "The behavior will change in pandas 3.0. This inplace method will never work because the intermediate object on which we are setting values always behaves as a copy.\n",
      "\n",
      "For example, when doing 'df[col].method(value, inplace=True)', try using 'df.method({col: value}, inplace=True)' or df[col] = df[col].method(value) instead, to perform the operation inplace on the original object.\n",
      "\n",
      "\n",
      "  self.df[col].fillna(self.df[col].median(), inplace=True)\n"
     ]
    }
   ],
   "source": [
    "from UK_road_safety import UKRoadSafety\n",
    "\n",
    "# load data\n",
    "data = UKRoadSafety('../data/',years=[2023])\n",
    "\n",
    "data.data_wrangling()"
   ]
  },
  {
   "cell_type": "code",
   "execution_count": 3,
   "id": "ceae9fe8",
   "metadata": {},
   "outputs": [
    {
     "name": "stdout",
     "output_type": "stream",
     "text": [
      "X_train shape: (151852, 47)\n",
      "y_train shape: (151852,)\n",
      "X_val shape: (37963, 47)\n",
      "y_val shape: (37963,)\n",
      "X_test shape: (37963, 47)\n",
      "y_test shape: (37963,)\n"
     ]
    }
   ],
   "source": [
    "\n",
    "\n",
    "# test-train split\n",
    "X_train, X_test, y_train, y_test = data.train_test_split()\n",
    "\n",
    "# train-val split\n",
    "X_train, X_val, y_train, y_val = data.train_test_split()\n",
    "\n",
    "\n",
    "print(\"X_train shape:\", X_train.shape)\n",
    "print(\"y_train shape:\", y_train.shape)\n",
    "print(\"X_val shape:\", X_val.shape)\n",
    "print(\"y_val shape:\", y_val.shape)\n",
    "print(\"X_test shape:\", X_test.shape)\n",
    "print(\"y_test shape:\", y_test.shape)\n"
   ]
  },
  {
   "cell_type": "markdown",
   "id": "72c6206e",
   "metadata": {},
   "source": [
    "### Baseline Model"
   ]
  },
  {
   "cell_type": "code",
   "execution_count": 4,
   "id": "87451202",
   "metadata": {},
   "outputs": [
    {
     "name": "stdout",
     "output_type": "stream",
     "text": [
      "Baseline Accuracy: 0.78\n"
     ]
    }
   ],
   "source": [
    "# get maximum frequency of y as baseline model\n",
    "acc_baseline = y_train.value_counts(normalize=True).max()\n",
    "print(\"Baseline Accuracy:\", round(acc_baseline, 2))"
   ]
  },
  {
   "cell_type": "markdown",
   "id": "0167b9cc",
   "metadata": {},
   "source": [
    "### Decision Tree Model Hyperparameter tuning"
   ]
  },
  {
   "cell_type": "code",
   "execution_count": 7,
   "id": "4fa8c188",
   "metadata": {},
   "outputs": [
    {
     "name": "stderr",
     "output_type": "stream",
     "text": [
      "100%|██████████| 25/25 [11:02<00:00, 26.49s/it]"
     ]
    },
    {
     "name": "stdout",
     "output_type": "stream",
     "text": [
      "Training Accuracy Scores: [0.7778484650383247, 0.7779822833350152, 0.7800136889536287]\n",
      "Validation Accuracy Scores: [0.7778450522547187, 0.777072858258527, 0.7796351383367994]\n"
     ]
    },
    {
     "name": "stderr",
     "output_type": "stream",
     "text": [
      "\n"
     ]
    }
   ],
   "source": [
    "# Create empty lists for training and validation accuracy scores\n",
    "training_acc = []\n",
    "validation_acc = []\n",
    "\n",
    "# tree depth from 1 to 49 in steps of 2\n",
    "depth_hyperparams=range(1,50,2)\n",
    "for d in tqdm.tqdm(depth_hyperparams):\n",
    "    # Create model with `max_depth` of `d`\n",
    "    test_model = make_pipeline(\n",
    "        # OneHotEncoder(use_cat_names=True),\n",
    "        DecisionTreeClassifier(max_depth=d,random_state=42)\n",
    "    )\n",
    "    # Fit model to training data\n",
    "    test_model.fit(X_train, y_train)\n",
    "    # Calculate training accuracy score and append to `training_acc`\n",
    "    \n",
    "    training_acc.append(test_model.score(X_train,y_train))\n",
    "    # Calculate validation accuracy score and append to `training_acc`\n",
    "    \n",
    "    validation_acc.append(test_model.score(X_val,y_val))\n",
    "\n",
    "print(\"Training Accuracy Scores:\", training_acc[:3])\n",
    "print(\"Validation Accuracy Scores:\", validation_acc[:3])\n"
   ]
  },
  {
   "cell_type": "markdown",
   "id": "38b012eb",
   "metadata": {},
   "source": [
    "### Validation Curve"
   ]
  },
  {
   "cell_type": "code",
   "execution_count": 9,
   "id": "4b964d90",
   "metadata": {},
   "outputs": [
    {
     "data": {
      "image/png": "[encoded data removed]",
      "text/plain": [
       "<Figure size 640x480 with 1 Axes>"
      ]
     },
     "metadata": {},
     "output_type": "display_data"
    }
   ],
   "source": [
    "# Plot `depth_hyperparams`, `training_acc`\n",
    "plt.plot(depth_hyperparams,validation_acc,label='validation accuracy')\n",
    "plt.plot(depth_hyperparams,training_acc,label='training accuracy')\n",
    "plt.legend()\n",
    "plt.xlabel('Max Depth')\n",
    "plt.ylabel('Accuracy Score');"
   ]
  },
  {
   "cell_type": "markdown",
   "id": "a4dfa823",
   "metadata": {},
   "source": [
    "After a depth of 7-8 the curves start diverging so keeping the depth at 7"
   ]
  },
  {
   "cell_type": "code",
   "execution_count": 10,
   "id": "1ebe3b9c",
   "metadata": {},
   "outputs": [
    {
     "data": {
      "text/html": [
       "<style>#sk-container-id-1 {\n",
       "  /* Definition of color scheme common for light and dark mode */\n",
       "  --sklearn-color-text: #000;\n",
       "  --sklearn-color-text-muted: #666;\n",
       "  --sklearn-color-line: gray;\n",
       "  /* Definition of color scheme for unfitted estimators */\n",
       "  --sklearn-color-unfitted-level-0: #fff5e6;\n",
       "  --sklearn-color-unfitted-level-1: #f6e4d2;\n",
       "  --sklearn-color-unfitted-level-2: #ffe0b3;\n",
       "  --sklearn-color-unfitted-level-3: chocolate;\n",
       "  /* Definition of color scheme for fitted estimators */\n",
       "  --sklearn-color-fitted-level-0: #f0f8ff;\n",
       "  --sklearn-color-fitted-level-1: #d4ebff;\n",
       "  --sklearn-color-fitted-level-2: #b3dbfd;\n",
       "  --sklearn-color-fitted-level-3: cornflowerblue;\n",
       "\n",
       "  /* Specific color for light theme */\n",
       "  --sklearn-color-text-on-default-background: var(--sg-text-color, var(--theme-code-foreground, var(--jp-content-font-color1, black)));\n",
       "  --sklearn-color-background: var(--sg-background-color, var(--theme-background, var(--jp-layout-color0, white)));\n",
       "  --sklearn-color-border-box: var(--sg-text-color, var(--theme-code-foreground, var(--jp-content-font-color1, black)));\n",
       "  --sklearn-color-icon: #696969;\n",
       "\n",
       "  @media (prefers-color-scheme: dark) {\n",
       "    /* Redefinition of color scheme for dark theme */\n",
       "    --sklearn-color-text-on-default-background: var(--sg-text-color, var(--theme-code-foreground, var(--jp-content-font-color1, white)));\n",
       "    --sklearn-color-background: var(--sg-background-color, var(--theme-background, var(--jp-layout-color0, #111)));\n",
       "    --sklearn-color-border-box: var(--sg-text-color, var(--theme-code-foreground, var(--jp-content-font-color1, white)));\n",
       "    --sklearn-color-icon: #878787;\n",
       "  }\n",
       "}\n",
       "\n",
       "#sk-container-id-1 {\n",
       "  color: var(--sklearn-color-text);\n",
       "}\n",
       "\n",
       "#sk-container-id-1 pre {\n",
       "  padding: 0;\n",
       "}\n",
       "\n",
       "#sk-container-id-1 input.sk-hidden--visually {\n",
       "  border: 0;\n",
       "  clip: rect(1px 1px 1px 1px);\n",
       "  clip: rect(1px, 1px, 1px, 1px);\n",
       "  height: 1px;\n",
       "  margin: -1px;\n",
       "  overflow: hidden;\n",
       "  padding: 0;\n",
       "  position: absolute;\n",
       "  width: 1px;\n",
       "}\n",
       "\n",
       "#sk-container-id-1 div.sk-dashed-wrapped {\n",
       "  border: 1px dashed var(--sklearn-color-line);\n",
       "  margin: 0 0.4em 0.5em 0.4em;\n",
       "  box-sizing: border-box;\n",
       "  padding-bottom: 0.4em;\n",
       "  background-color: var(--sklearn-color-background);\n",
       "}\n",
       "\n",
       "#sk-container-id-1 div.sk-container {\n",
       "  /* jupyter's `normalize.less` sets `[hidden] { display: none; }`\n",
       "     but bootstrap.min.css set `[hidden] { display: none !important; }`\n",
       "     so we also need the `!important` here to be able to override the\n",
       "     default hidden behavior on the sphinx rendered scikit-learn.org.\n",
       "     See: https://github.com/scikit-learn/scikit-learn/issues/21755 */\n",
       "  display: inline-block !important;\n",
       "  position: relative;\n",
       "}\n",
       "\n",
       "#sk-container-id-1 div.sk-text-repr-fallback {\n",
       "  display: none;\n",
       "}\n",
       "\n",
       "div.sk-parallel-item,\n",
       "div.sk-serial,\n",
       "div.sk-item {\n",
       "  /* draw centered vertical line to link estimators */\n",
       "  background-image: linear-gradient(var(--sklearn-color-text-on-default-background), var(--sklearn-color-text-on-default-background));\n",
       "  background-size: 2px 100%;\n",
       "  background-repeat: no-repeat;\n",
       "  background-position: center center;\n",
       "}\n",
       "\n",
       "/* Parallel-specific style estimator block */\n",
       "\n",
       "#sk-container-id-1 div.sk-parallel-item::after {\n",
       "  content: \"\";\n",
       "  width: 100%;\n",
       "  border-bottom: 2px solid var(--sklearn-color-text-on-default-background);\n",
       "  flex-grow: 1;\n",
       "}\n",
       "\n",
       "#sk-container-id-1 div.sk-parallel {\n",
       "  display: flex;\n",
       "  align-items: stretch;\n",
       "  justify-content: center;\n",
       "  background-color: var(--sklearn-color-background);\n",
       "  position: relative;\n",
       "}\n",
       "\n",
       "#sk-container-id-1 div.sk-parallel-item {\n",
       "  display: flex;\n",
       "  flex-direction: column;\n",
       "}\n",
       "\n",
       "#sk-container-id-1 div.sk-parallel-item:first-child::after {\n",
       "  align-self: flex-end;\n",
       "  width: 50%;\n",
       "}\n",
       "\n",
       "#sk-container-id-1 div.sk-parallel-item:last-child::after {\n",
       "  align-self: flex-start;\n",
       "  width: 50%;\n",
       "}\n",
       "\n",
       "#sk-container-id-1 div.sk-parallel-item:only-child::after {\n",
       "  width: 0;\n",
       "}\n",
       "\n",
       "/* Serial-specific style estimator block */\n",
       "\n",
       "#sk-container-id-1 div.sk-serial {\n",
       "  display: flex;\n",
       "  flex-direction: column;\n",
       "  align-items: center;\n",
       "  background-color: var(--sklearn-color-background);\n",
       "  padding-right: 1em;\n",
       "  padding-left: 1em;\n",
       "}\n",
       "\n",
       "\n",
       "/* Toggleable style: style used for estimator/Pipeline/ColumnTransformer box that is\n",
       "clickable and can be expanded/collapsed.\n",
       "- Pipeline and ColumnTransformer use this feature and define the default style\n",
       "- Estimators will overwrite some part of the style using the `sk-estimator` class\n",
       "*/\n",
       "\n",
       "/* Pipeline and ColumnTransformer style (default) */\n",
       "\n",
       "#sk-container-id-1 div.sk-toggleable {\n",
       "  /* Default theme specific background. It is overwritten whether we have a\n",
       "  specific estimator or a Pipeline/ColumnTransformer */\n",
       "  background-color: var(--sklearn-color-background);\n",
       "}\n",
       "\n",
       "/* Toggleable label */\n",
       "#sk-container-id-1 label.sk-toggleable__label {\n",
       "  cursor: pointer;\n",
       "  display: flex;\n",
       "  width: 100%;\n",
       "  margin-bottom: 0;\n",
       "  padding: 0.5em;\n",
       "  box-sizing: border-box;\n",
       "  text-align: center;\n",
       "  align-items: start;\n",
       "  justify-content: space-between;\n",
       "  gap: 0.5em;\n",
       "}\n",
       "\n",
       "#sk-container-id-1 label.sk-toggleable__label .caption {\n",
       "  font-size: 0.6rem;\n",
       "  font-weight: lighter;\n",
       "  color: var(--sklearn-color-text-muted);\n",
       "}\n",
       "\n",
       "#sk-container-id-1 label.sk-toggleable__label-arrow:before {\n",
       "  /* Arrow on the left of the label */\n",
       "  content: \"▸\";\n",
       "  float: left;\n",
       "  margin-right: 0.25em;\n",
       "  color: var(--sklearn-color-icon);\n",
       "}\n",
       "\n",
       "#sk-container-id-1 label.sk-toggleable__label-arrow:hover:before {\n",
       "  color: var(--sklearn-color-text);\n",
       "}\n",
       "\n",
       "/* Toggleable content - dropdown */\n",
       "\n",
       "#sk-container-id-1 div.sk-toggleable__content {\n",
       "  max-height: 0;\n",
       "  max-width: 0;\n",
       "  overflow: hidden;\n",
       "  text-align: left;\n",
       "  /* unfitted */\n",
       "  background-color: var(--sklearn-color-unfitted-level-0);\n",
       "}\n",
       "\n",
       "#sk-container-id-1 div.sk-toggleable__content.fitted {\n",
       "  /* fitted */\n",
       "  background-color: var(--sklearn-color-fitted-level-0);\n",
       "}\n",
       "\n",
       "#sk-container-id-1 div.sk-toggleable__content pre {\n",
       "  margin: 0.2em;\n",
       "  border-radius: 0.25em;\n",
       "  color: var(--sklearn-color-text);\n",
       "  /* unfitted */\n",
       "  background-color: var(--sklearn-color-unfitted-level-0);\n",
       "}\n",
       "\n",
       "#sk-container-id-1 div.sk-toggleable__content.fitted pre {\n",
       "  /* unfitted */\n",
       "  background-color: var(--sklearn-color-fitted-level-0);\n",
       "}\n",
       "\n",
       "#sk-container-id-1 input.sk-toggleable__control:checked~div.sk-toggleable__content {\n",
       "  /* Expand drop-down */\n",
       "  max-height: 200px;\n",
       "  max-width: 100%;\n",
       "  overflow: auto;\n",
       "}\n",
       "\n",
       "#sk-container-id-1 input.sk-toggleable__control:checked~label.sk-toggleable__label-arrow:before {\n",
       "  content: \"▾\";\n",
       "}\n",
       "\n",
       "/* Pipeline/ColumnTransformer-specific style */\n",
       "\n",
       "#sk-container-id-1 div.sk-label input.sk-toggleable__control:checked~label.sk-toggleable__label {\n",
       "  color: var(--sklearn-color-text);\n",
       "  background-color: var(--sklearn-color-unfitted-level-2);\n",
       "}\n",
       "\n",
       "#sk-container-id-1 div.sk-label.fitted input.sk-toggleable__control:checked~label.sk-toggleable__label {\n",
       "  background-color: var(--sklearn-color-fitted-level-2);\n",
       "}\n",
       "\n",
       "/* Estimator-specific style */\n",
       "\n",
       "/* Colorize estimator box */\n",
       "#sk-container-id-1 div.sk-estimator input.sk-toggleable__control:checked~label.sk-toggleable__label {\n",
       "  /* unfitted */\n",
       "  background-color: var(--sklearn-color-unfitted-level-2);\n",
       "}\n",
       "\n",
       "#sk-container-id-1 div.sk-estimator.fitted input.sk-toggleable__control:checked~label.sk-toggleable__label {\n",
       "  /* fitted */\n",
       "  background-color: var(--sklearn-color-fitted-level-2);\n",
       "}\n",
       "\n",
       "#sk-container-id-1 div.sk-label label.sk-toggleable__label,\n",
       "#sk-container-id-1 div.sk-label label {\n",
       "  /* The background is the default theme color */\n",
       "  color: var(--sklearn-color-text-on-default-background);\n",
       "}\n",
       "\n",
       "/* On hover, darken the color of the background */\n",
       "#sk-container-id-1 div.sk-label:hover label.sk-toggleable__label {\n",
       "  color: var(--sklearn-color-text);\n",
       "  background-color: var(--sklearn-color-unfitted-level-2);\n",
       "}\n",
       "\n",
       "/* Label box, darken color on hover, fitted */\n",
       "#sk-container-id-1 div.sk-label.fitted:hover label.sk-toggleable__label.fitted {\n",
       "  color: var(--sklearn-color-text);\n",
       "  background-color: var(--sklearn-color-fitted-level-2);\n",
       "}\n",
       "\n",
       "/* Estimator label */\n",
       "\n",
       "#sk-container-id-1 div.sk-label label {\n",
       "  font-family: monospace;\n",
       "  font-weight: bold;\n",
       "  display: inline-block;\n",
       "  line-height: 1.2em;\n",
       "}\n",
       "\n",
       "#sk-container-id-1 div.sk-label-container {\n",
       "  text-align: center;\n",
       "}\n",
       "\n",
       "/* Estimator-specific */\n",
       "#sk-container-id-1 div.sk-estimator {\n",
       "  font-family: monospace;\n",
       "  border: 1px dotted var(--sklearn-color-border-box);\n",
       "  border-radius: 0.25em;\n",
       "  box-sizing: border-box;\n",
       "  margin-bottom: 0.5em;\n",
       "  /* unfitted */\n",
       "  background-color: var(--sklearn-color-unfitted-level-0);\n",
       "}\n",
       "\n",
       "#sk-container-id-1 div.sk-estimator.fitted {\n",
       "  /* fitted */\n",
       "  background-color: var(--sklearn-color-fitted-level-0);\n",
       "}\n",
       "\n",
       "/* on hover */\n",
       "#sk-container-id-1 div.sk-estimator:hover {\n",
       "  /* unfitted */\n",
       "  background-color: var(--sklearn-color-unfitted-level-2);\n",
       "}\n",
       "\n",
       "#sk-container-id-1 div.sk-estimator.fitted:hover {\n",
       "  /* fitted */\n",
       "  background-color: var(--sklearn-color-fitted-level-2);\n",
       "}\n",
       "\n",
       "/* Specification for estimator info (e.g. \"i\" and \"?\") */\n",
       "\n",
       "/* Common style for \"i\" and \"?\" */\n",
       "\n",
       ".sk-estimator-doc-link,\n",
       "a:link.sk-estimator-doc-link,\n",
       "a:visited.sk-estimator-doc-link {\n",
       "  float: right;\n",
       "  font-size: smaller;\n",
       "  line-height: 1em;\n",
       "  font-family: monospace;\n",
       "  background-color: var(--sklearn-color-background);\n",
       "  border-radius: 1em;\n",
       "  height: 1em;\n",
       "  width: 1em;\n",
       "  text-decoration: none !important;\n",
       "  margin-left: 0.5em;\n",
       "  text-align: center;\n",
       "  /* unfitted */\n",
       "  border: var(--sklearn-color-unfitted-level-1) 1pt solid;\n",
       "  color: var(--sklearn-color-unfitted-level-1);\n",
       "}\n",
       "\n",
       ".sk-estimator-doc-link.fitted,\n",
       "a:link.sk-estimator-doc-link.fitted,\n",
       "a:visited.sk-estimator-doc-link.fitted {\n",
       "  /* fitted */\n",
       "  border: var(--sklearn-color-fitted-level-1) 1pt solid;\n",
       "  color: var(--sklearn-color-fitted-level-1);\n",
       "}\n",
       "\n",
       "/* On hover */\n",
       "div.sk-estimator:hover .sk-estimator-doc-link:hover,\n",
       ".sk-estimator-doc-link:hover,\n",
       "div.sk-label-container:hover .sk-estimator-doc-link:hover,\n",
       ".sk-estimator-doc-link:hover {\n",
       "  /* unfitted */\n",
       "  background-color: var(--sklearn-color-unfitted-level-3);\n",
       "  color: var(--sklearn-color-background);\n",
       "  text-decoration: none;\n",
       "}\n",
       "\n",
       "div.sk-estimator.fitted:hover .sk-estimator-doc-link.fitted:hover,\n",
       ".sk-estimator-doc-link.fitted:hover,\n",
       "div.sk-label-container:hover .sk-estimator-doc-link.fitted:hover,\n",
       ".sk-estimator-doc-link.fitted:hover {\n",
       "  /* fitted */\n",
       "  background-color: var(--sklearn-color-fitted-level-3);\n",
       "  color: var(--sklearn-color-background);\n",
       "  text-decoration: none;\n",
       "}\n",
       "\n",
       "/* Span, style for the box shown on hovering the info icon */\n",
       ".sk-estimator-doc-link span {\n",
       "  display: none;\n",
       "  z-index: 9999;\n",
       "  position: relative;\n",
       "  font-weight: normal;\n",
       "  right: .2ex;\n",
       "  padding: .5ex;\n",
       "  margin: .5ex;\n",
       "  width: min-content;\n",
       "  min-width: 20ex;\n",
       "  max-width: 50ex;\n",
       "  color: var(--sklearn-color-text);\n",
       "  box-shadow: 2pt 2pt 4pt #999;\n",
       "  /* unfitted */\n",
       "  background: var(--sklearn-color-unfitted-level-0);\n",
       "  border: .5pt solid var(--sklearn-color-unfitted-level-3);\n",
       "}\n",
       "\n",
       ".sk-estimator-doc-link.fitted span {\n",
       "  /* fitted */\n",
       "  background: var(--sklearn-color-fitted-level-0);\n",
       "  border: var(--sklearn-color-fitted-level-3);\n",
       "}\n",
       "\n",
       ".sk-estimator-doc-link:hover span {\n",
       "  display: block;\n",
       "}\n",
       "\n",
       "/* \"?\"-specific style due to the `<a>` HTML tag */\n",
       "\n",
       "#sk-container-id-1 a.estimator_doc_link {\n",
       "  float: right;\n",
       "  font-size: 1rem;\n",
       "  line-height: 1em;\n",
       "  font-family: monospace;\n",
       "  background-color: var(--sklearn-color-background);\n",
       "  border-radius: 1rem;\n",
       "  height: 1rem;\n",
       "  width: 1rem;\n",
       "  text-decoration: none;\n",
       "  /* unfitted */\n",
       "  color: var(--sklearn-color-unfitted-level-1);\n",
       "  border: var(--sklearn-color-unfitted-level-1) 1pt solid;\n",
       "}\n",
       "\n",
       "#sk-container-id-1 a.estimator_doc_link.fitted {\n",
       "  /* fitted */\n",
       "  border: var(--sklearn-color-fitted-level-1) 1pt solid;\n",
       "  color: var(--sklearn-color-fitted-level-1);\n",
       "}\n",
       "\n",
       "/* On hover */\n",
       "#sk-container-id-1 a.estimator_doc_link:hover {\n",
       "  /* unfitted */\n",
       "  background-color: var(--sklearn-color-unfitted-level-3);\n",
       "  color: var(--sklearn-color-background);\n",
       "  text-decoration: none;\n",
       "}\n",
       "\n",
       "#sk-container-id-1 a.estimator_doc_link.fitted:hover {\n",
       "  /* fitted */\n",
       "  background-color: var(--sklearn-color-fitted-level-3);\n",
       "}\n",
       "</style><div id=\"sk-container-id-1\" class=\"sk-top-container\"><div class=\"sk-text-repr-fallback\"><pre>Pipeline(steps=[(&#x27;decisiontreeclassifier&#x27;,\n",
       "                 DecisionTreeClassifier(max_depth=10, random_state=42))])</pre><b>In a Jupyter environment, please rerun this cell to show the HTML representation or trust the notebook. <br />On GitHub, the HTML representation is unable to render, please try loading this page with nbviewer.org.</b></div><div class=\"sk-container\" hidden><div class=\"sk-item sk-dashed-wrapped\"><div class=\"sk-label-container\"><div class=\"sk-label fitted sk-toggleable\"><input class=\"sk-toggleable__control sk-hidden--visually\" id=\"sk-estimator-id-1\" type=\"checkbox\" ><label for=\"sk-estimator-id-1\" class=\"sk-toggleable__label fitted sk-toggleable__label-arrow\"><div><div>Pipeline</div></div><div><a class=\"sk-estimator-doc-link fitted\" rel=\"noreferrer\" target=\"_blank\" href=\"https://scikit-learn.org/1.6/modules/generated/sklearn.pipeline.Pipeline.html\">?<span>Documentation for Pipeline</span></a><span class=\"sk-estimator-doc-link fitted\">i<span>Fitted</span></span></div></label><div class=\"sk-toggleable__content fitted\"><pre>Pipeline(steps=[(&#x27;decisiontreeclassifier&#x27;,\n",
       "                 DecisionTreeClassifier(max_depth=10, random_state=42))])</pre></div> </div></div><div class=\"sk-serial\"><div class=\"sk-item\"><div class=\"sk-estimator fitted sk-toggleable\"><input class=\"sk-toggleable__control sk-hidden--visually\" id=\"sk-estimator-id-2\" type=\"checkbox\" ><label for=\"sk-estimator-id-2\" class=\"sk-toggleable__label fitted sk-toggleable__label-arrow\"><div><div>DecisionTreeClassifier</div></div><div><a class=\"sk-estimator-doc-link fitted\" rel=\"noreferrer\" target=\"_blank\" href=\"https://scikit-learn.org/1.6/modules/generated/sklearn.tree.DecisionTreeClassifier.html\">?<span>Documentation for DecisionTreeClassifier</span></a></div></label><div class=\"sk-toggleable__content fitted\"><pre>DecisionTreeClassifier(max_depth=10, random_state=42)</pre></div> </div></div></div></div></div></div>"
      ],
      "text/plain": [
       "Pipeline(steps=[('decisiontreeclassifier',\n",
       "                 DecisionTreeClassifier(max_depth=10, random_state=42))])"
      ]
     },
     "execution_count": 10,
     "metadata": {},
     "output_type": "execute_result"
    }
   ],
   "source": [
    "final_model = make_pipeline(\n",
    "        # OrdinalEncoder(),\n",
    "        DecisionTreeClassifier(max_depth=10,random_state=42)\n",
    "    )\n",
    "    # Fit model to training data\n",
    "final_model.fit(X_train, y_train)"
   ]
  },
  {
   "cell_type": "code",
   "execution_count": 11,
   "id": "558f9edf",
   "metadata": {},
   "outputs": [
    {
     "name": "stdout",
     "output_type": "stream",
     "text": [
      "Train Accuracy: 0.79\n",
      "Validation Accuracy: 0.78\n",
      "Test Accuracy: 0.78\n"
     ]
    }
   ],
   "source": [
    "# train accuracy\n",
    "acc_train = final_model.score(X_train,y_train)\n",
    "print(\"Train Accuracy:\", round(acc_train, 2))\n",
    "# validation accuracy\n",
    "acc_val = final_model.score(X_val,y_val)\n",
    "print(\"Validation Accuracy:\", round(acc_val, 2))\n",
    "# test accuracy\n",
    "acc_test = final_model.score(X_test,y_test)\n",
    "print(\"Test Accuracy:\", round(acc_test, 2))"
   ]
  },
  {
   "cell_type": "markdown",
   "id": "d9b79f3e",
   "metadata": {},
   "source": [
    "We are not able to do better than 71% using decision trees. Moreover the classification is for the imbalanced dataset. Let is try to handle the imbalance first"
   ]
  },
  {
   "cell_type": "markdown",
   "id": "0829ff8d",
   "metadata": {},
   "source": [
    "### Random Forest Model on imbalanced data"
   ]
  },
  {
   "cell_type": "code",
   "execution_count": 13,
   "id": "eaaea740",
   "metadata": {},
   "outputs": [
    {
     "name": "stdout",
     "output_type": "stream",
     "text": [
      "Train Accuracy: 0.78\n",
      "Validation Accuracy: 0.78\n",
      "Test Accuracy: 0.78\n"
     ]
    }
   ],
   "source": [
    "\n",
    "model_rf = RandomForestClassifier(\n",
    "    n_estimators=100,\n",
    "    max_depth=10,\n",
    "    min_samples_split=10,\n",
    "    min_samples_leaf=2,\n",
    "    max_features= \"log2\",\n",
    "    random_state=42,n_jobs=-1)\n",
    "\n",
    "# fit model to training data\n",
    "model_rf.fit(X_train, y_train)\n",
    "\n",
    "# accuracy\n",
    "acc_train = model_rf.score(X_train,y_train)\n",
    "print(\"Train Accuracy:\", round(acc_train, 2))\n",
    "# validation accuracy\n",
    "acc_val = model_rf.score(X_val,y_val)\n",
    "print(\"Validation Accuracy:\", round(acc_val, 2))\n",
    "# test accuracy\n",
    "acc_test = model_rf.score(X_test,y_test)\n",
    "print(\"Test Accuracy:\", round(acc_test, 2))\n"
   ]
  },
  {
   "cell_type": "markdown",
   "id": "451a9fab",
   "metadata": {},
   "source": [
    "It is clear that both the models were not able to improve the model. One reason for that is the imbalance in the target variable."
   ]
  },
  {
   "cell_type": "markdown",
   "id": "2ec0f51c",
   "metadata": {},
   "source": [
    "## Handling Imbalance"
   ]
  },
  {
   "cell_type": "code",
   "execution_count": 5,
   "id": "17730ad7",
   "metadata": {},
   "outputs": [
    {
     "name": "stdout",
     "output_type": "stream",
     "text": [
      "(6321, 47)\n",
      "(351840, 47)\n"
     ]
    }
   ],
   "source": [
    "# over and under sampling\n",
    "\n",
    "# under sampling\n",
    "under_sampler = RandomUnderSampler(random_state=42)\n",
    "X_train_under, y_train_under = under_sampler.fit_resample(X_train,y_train)\n",
    "print(X_train_under.shape)\n",
    "\n",
    "# over sampling\n",
    "over_sampler = RandomOverSampler(random_state=42)\n",
    "X_train_over, y_train_over = over_sampler.fit_resample(X_train,y_train)\n",
    "print(X_train_over.shape)\n"
   ]
  },
  {
   "cell_type": "code",
   "execution_count": null,
   "id": "58705624",
   "metadata": {},
   "outputs": [
    {
     "data": {
      "text/plain": [
       "<Axes: xlabel='Frequency', ylabel='Accident Severity'>"
      ]
     },
     "metadata": {},
     "output_type": "display_data"
    },
    {
     "data": {
      "image/png": "[encoded data removed]",
      "text/plain": [
       "<Figure size 640x480 with 1 Axes>"
      ]
     },
     "metadata": {},
     "output_type": "display_data"
    }
   ],
   "source": [
    "y_train_over.value_counts(normalize=True).sort_index().plot.barh(xlabel='Frequency',ylabel='Accident Severity')"
   ]
  },
  {
   "cell_type": "code",
   "execution_count": null,
   "id": "dce3bc4e",
   "metadata": {},
   "outputs": [],
   "source": [
    "# from imblearn.over_sampling import SMOTE\n",
    "\n",
    "# smote = SMOTE(random_state=42)\n",
    "\n",
    "# X_train_over, y_train_over = smote.fit_resample(X_train, y_train)"
   ]
  },
  {
   "cell_type": "code",
   "execution_count": null,
   "id": "261fcb22",
   "metadata": {},
   "outputs": [
    {
     "data": {
      "text/plain": [
       "<Axes: xlabel='Frequency', ylabel='Accident Severity'>"
      ]
     },
     "metadata": {},
     "output_type": "display_data"
    },
    {
     "data": {
      "image/png": "[encoded data removed]",
      "text/plain": [
       "<Figure size 640x480 with 1 Axes>"
      ]
     },
     "metadata": {},
     "output_type": "display_data"
    }
   ],
   "source": [
    "y_train_over.value_counts().sort_index().plot.barh(xlabel='Frequency',ylabel='Accident Severity')"
   ]
  },
  {
   "cell_type": "markdown",
   "id": "1743e08e",
   "metadata": {},
   "source": [
    "### Model for balanced dataset"
   ]
  },
  {
   "cell_type": "code",
   "execution_count": null,
   "id": "a5b7d700",
   "metadata": {},
   "outputs": [
    {
     "name": "stderr",
     "output_type": "stream",
     "text": [
      "100%|██████████| 25/25 [01:14<00:00,  3.00s/it]"
     ]
    },
    {
     "name": "stdout",
     "output_type": "stream",
     "text": [
      "Training Accuracy Scores: [0.45680512907994997, 0.4834385306493802, 0.5172260605026726]\n",
      "Validation Accuracy Scores: [0.5541141220242995, 0.5322840867933226, 0.48213756544071645]\n"
     ]
    },
    {
     "name": "stderr",
     "output_type": "stream",
     "text": [
      "\n"
     ]
    }
   ],
   "source": [
    "# Create empty lists for training and validation accuracy scores\n",
    "training_acc = []\n",
    "validation_acc = []\n",
    "\n",
    "# tree depth from 1 to 49 in steps of 2\n",
    "depth_hyperparams=range(1,50,2)\n",
    "for d in tqdm.tqdm(depth_hyperparams):\n",
    "    # Create model with `max_depth` of `d`\n",
    "    test_model = make_pipeline(\n",
    "        # OneHotEncoder(use_cat_names=True),\n",
    "        DecisionTreeClassifier(max_depth=d,random_state=42)\n",
    "    )\n",
    "    # Fit model to training data\n",
    "    test_model.fit(X_train_over, y_train_over)\n",
    "    # Calculate training accuracy score and append to `training_acc`\n",
    "    \n",
    "    training_acc.append(test_model.score(X_train_over,y_train_over))\n",
    "    # Calculate validation accuracy score and append to `training_acc`\n",
    "    \n",
    "    validation_acc.append(test_model.score(X_val,y_val))\n",
    "\n",
    "print(\"Training Accuracy Scores:\", training_acc[:3])\n",
    "print(\"Validation Accuracy Scores:\", validation_acc[:3])\n"
   ]
  },
  {
   "cell_type": "code",
   "execution_count": null,
   "id": "2fc522da",
   "metadata": {},
   "outputs": [
    {
     "data": {
      "image/png": "[encoded data removed]",
      "text/plain": [
       "<Figure size 640x480 with 1 Axes>"
      ]
     },
     "metadata": {},
     "output_type": "display_data"
    }
   ],
   "source": [
    "# Plot `depth_hyperparams`, `training_acc`\n",
    "plt.plot(depth_hyperparams,validation_acc,label='validation accuracy')\n",
    "plt.plot(depth_hyperparams,training_acc,label='training accuracy')\n",
    "plt.legend()\n",
    "plt.xlabel('Max Depth')\n",
    "plt.ylabel('Accuracy Score');"
   ]
  },
  {
   "cell_type": "markdown",
   "id": "2bd5c63d",
   "metadata": {},
   "source": [
    "This is worse than baseline model."
   ]
  },
  {
   "cell_type": "markdown",
   "id": "3b166f7d",
   "metadata": {},
   "source": [
    "## Random Forest Model\n",
    "\n",
    "We will be using RandomForest classfier which is generally robust for imbalanced dataset and using cross validation along with grid search for tuning the hyperparameters"
   ]
  },
  {
   "cell_type": "code",
   "execution_count": null,
   "id": "5110a09c",
   "metadata": {},
   "outputs": [
    {
     "name": "stderr",
     "output_type": "stream",
     "text": [
      "/home/ankit/miniconda3/envs/UK/lib/python3.11/site-packages/joblib/externals/loky/process_executor.py:782: UserWarning:\n",
      "\n",
      "A worker stopped while some jobs were given to the executor. This can be caused by a too short worker timeout or by a memory leak.\n",
      "\n"
     ]
    },
    {
     "name": "stdout",
     "output_type": "stream",
     "text": [
      "Train Accuracy: 1.0\n",
      "Test Accuracy: 0.75\n"
     ]
    }
   ],
   "source": [
    "\n",
    "clf = RandomForestClassifier(random_state=42)\n",
    "\n",
    "\n",
    "param_grid = {\n",
    "    \"n_estimators\": [100,200,300],\n",
    "    \"max_depth\": [10,20,30],\n",
    "    \"min_samples_split\": [10],\n",
    "    \"min_samples_leaf\": [2,5,10],\n",
    "    \"max_features\": [ \"log2\"]\n",
    "}\n",
    "\n",
    "grid = GridSearchCV(\n",
    "    clf, param_grid,\n",
    "    scoring=\"f1_weighted\",  # better than accuracy for imbalance\n",
    "    cv=3,\n",
    "    n_jobs=-1\n",
    ")\n",
    "\n",
    "grid.fit(X_train_over, y_train_over)\n",
    "\n",
    "# accuracy  \n",
    "acc_train = grid.score(X_train,y_train)\n",
    "print(\"Train Accuracy:\", round(acc_train, 2))\n",
    "# test accuracy\n",
    "acc_test = grid.score(X_test,y_test)\n",
    "print(\"Test Accuracy:\", round(acc_test, 2))\n"
   ]
  },
  {
   "cell_type": "markdown",
   "id": "a5848ab4",
   "metadata": {},
   "source": [
    "Random Forest does not seem to be doing a good job than the decision tree model on beating the baseline"
   ]
  },
  {
   "cell_type": "markdown",
   "id": "6f8ef8a9",
   "metadata": {},
   "source": [
    "## LightGBM Model"
   ]
  },
  {
   "cell_type": "code",
   "execution_count": null,
   "id": "d7ac0255",
   "metadata": {},
   "outputs": [
    {
     "name": "stderr",
     "output_type": "stream",
     "text": [
      "[I 2025-08-27 14:33:25,471] A new study created in memory with name: maximize_macro_recall\n"
     ]
    },
    {
     "name": "stdout",
     "output_type": "stream",
     "text": [
      "Training until validation scores don't improve for 20 rounds\n",
      "Did not meet early stopping. Best iteration is:\n",
      "[150]\tvalid_0's multi_logloss: 0.532986\n"
     ]
    },
    {
     "name": "stderr",
     "output_type": "stream",
     "text": [
      "[I 2025-08-27 14:33:49,760] Trial 0 finished with value: 0.3414583240584339 and parameters: {'num_leaves': 140, 'max_depth': 26, 'learning_rate': 0.008145488354945864, 'min_child_samples': 66}. Best is trial 0 with value: 0.3414583240584339.\n"
     ]
    },
    {
     "name": "stdout",
     "output_type": "stream",
     "text": [
      "Training until validation scores don't improve for 20 rounds\n",
      "Did not meet early stopping. Best iteration is:\n",
      "[150]\tvalid_0's multi_logloss: 0.510817\n"
     ]
    },
    {
     "name": "stderr",
     "output_type": "stream",
     "text": [
      "[I 2025-08-27 14:34:07,707] Trial 1 finished with value: 0.3666270338116006 and parameters: {'num_leaves': 147, 'max_depth': 28, 'learning_rate': 0.0560405138187735, 'min_child_samples': 83}. Best is trial 1 with value: 0.3666270338116006.\n"
     ]
    },
    {
     "name": "stdout",
     "output_type": "stream",
     "text": [
      "Training until validation scores don't improve for 20 rounds\n",
      "Did not meet early stopping. Best iteration is:\n",
      "[150]\tvalid_0's multi_logloss: 0.512374\n"
     ]
    },
    {
     "name": "stderr",
     "output_type": "stream",
     "text": [
      "[I 2025-08-27 14:34:21,705] Trial 2 finished with value: 0.36561271206321666 and parameters: {'num_leaves': 87, 'max_depth': 15, 'learning_rate': 0.07695947369160616, 'min_child_samples': 66}. Best is trial 1 with value: 0.3666270338116006.\n"
     ]
    },
    {
     "name": "stdout",
     "output_type": "stream",
     "text": [
      "Training until validation scores don't improve for 20 rounds\n",
      "Did not meet early stopping. Best iteration is:\n",
      "[150]\tvalid_0's multi_logloss: 0.535182\n"
     ]
    },
    {
     "name": "stderr",
     "output_type": "stream",
     "text": [
      "[I 2025-08-27 14:34:39,018] Trial 3 finished with value: 0.3420469842070752 and parameters: {'num_leaves': 171, 'max_depth': 7, 'learning_rate': 0.011027376997884352, 'min_child_samples': 81}. Best is trial 1 with value: 0.3666270338116006.\n"
     ]
    },
    {
     "name": "stdout",
     "output_type": "stream",
     "text": [
      "Training until validation scores don't improve for 20 rounds\n",
      "Did not meet early stopping. Best iteration is:\n",
      "[149]\tvalid_0's multi_logloss: 0.504177\n"
     ]
    },
    {
     "name": "stderr",
     "output_type": "stream",
     "text": [
      "[I 2025-08-27 14:35:00,080] Trial 4 finished with value: 0.37770278862958934 and parameters: {'num_leaves': 199, 'max_depth': 29, 'learning_rate': 0.09144832231394232, 'min_child_samples': 68}. Best is trial 4 with value: 0.37770278862958934.\n"
     ]
    },
    {
     "name": "stdout",
     "output_type": "stream",
     "text": [
      "Training until validation scores don't improve for 20 rounds\n",
      "Did not meet early stopping. Best iteration is:\n",
      "[150]\tvalid_0's multi_logloss: 0.512331\n"
     ]
    },
    {
     "name": "stderr",
     "output_type": "stream",
     "text": [
      "[I 2025-08-27 14:35:19,674] Trial 5 finished with value: 0.3648038215584421 and parameters: {'num_leaves': 115, 'max_depth': 24, 'learning_rate': 0.05930470831727718, 'min_child_samples': 98}. Best is trial 4 with value: 0.37770278862958934.\n"
     ]
    },
    {
     "name": "stdout",
     "output_type": "stream",
     "text": [
      "Training until validation scores don't improve for 20 rounds\n",
      "Did not meet early stopping. Best iteration is:\n",
      "[150]\tvalid_0's multi_logloss: 0.512072\n"
     ]
    },
    {
     "name": "stderr",
     "output_type": "stream",
     "text": [
      "[I 2025-08-27 14:35:41,120] Trial 6 finished with value: 0.3677291536730957 and parameters: {'num_leaves': 76, 'max_depth': 26, 'learning_rate': 0.09805022372726757, 'min_child_samples': 98}. Best is trial 4 with value: 0.37770278862958934.\n"
     ]
    },
    {
     "name": "stdout",
     "output_type": "stream",
     "text": [
      "Training until validation scores don't improve for 20 rounds\n",
      "Did not meet early stopping. Best iteration is:\n",
      "[149]\tvalid_0's multi_logloss: 0.512321\n"
     ]
    },
    {
     "name": "stderr",
     "output_type": "stream",
     "text": [
      "[I 2025-08-27 14:35:56,475] Trial 7 finished with value: 0.36786087461727807 and parameters: {'num_leaves': 72, 'max_depth': 18, 'learning_rate': 0.09353083064601125, 'min_child_samples': 62}. Best is trial 4 with value: 0.37770278862958934.\n"
     ]
    },
    {
     "name": "stdout",
     "output_type": "stream",
     "text": [
      "Training until validation scores don't improve for 20 rounds\n"
     ]
    }
   ],
   "source": [
    "import optuna\n",
    "import lightgbm as lgb\n",
    "from sklearn.model_selection import train_test_split\n",
    "from sklearn.metrics import f1_score\n",
    "\n",
    "# Pre-split your data to avoid CV inside Optuna\n",
    "X_tune, X_holdout, y_tune, y_holdout = train_test_split(X_train, y_train, test_size=0.2, random_state=42)\n",
    "from sklearn.metrics import recall_score\n",
    "\n",
    "def objective(trial):\n",
    "    params = {\n",
    "        'objective': 'multiclass',\n",
    "        'num_class': len(set(y_tune)),\n",
    "        'metric': 'multi_logloss',  # keep for LightGBM, but won't drive Optuna\n",
    "        'verbosity': -1,\n",
    "        'boosting_type': 'gbdt',\n",
    "        'num_leaves': trial.suggest_int('num_leaves', 50, 200),\n",
    "        'max_depth': trial.suggest_int('max_depth', 5, 30),\n",
    "        'learning_rate': trial.suggest_float('learning_rate', 0.008, 0.1),\n",
    "        'n_estimators': 150,\n",
    "        'min_child_samples': trial.suggest_int('min_child_samples', 30, 100)\n",
    "    }\n",
    "    \n",
    "    model = lgb.LGBMClassifier(**params)  # helps recall for minority\n",
    "    model.fit(\n",
    "        X_tune, y_tune,\n",
    "        eval_set=[(X_holdout, y_holdout)],\n",
    "        eval_metric='multi_logloss',\n",
    "        callbacks=[lgb.early_stopping(stopping_rounds=20)]\n",
    "    )\n",
    "    preds = model.predict(X_holdout)\n",
    "    return recall_score(y_holdout, preds, average='macro')  # 🔑 optimize macro recall\n",
    "\n",
    "study = optuna.create_study(direction='maximize', study_name=\"maximize_macro_recall\")\n",
    "study.optimize(objective, n_trials=20)\n",
    "\n",
    "\n",
    "print(study.best_params)\n"
   ]
  },
  {
   "cell_type": "code",
   "execution_count": null,
   "id": "113628d4",
   "metadata": {},
   "outputs": [],
   "source": []
  },
  {
   "cell_type": "code",
   "execution_count": null,
   "id": "8709e4f1",
   "metadata": {},
   "outputs": [
    {
     "name": "stdout",
     "output_type": "stream",
     "text": [
      "Test Accuracy: 0.7863972815636278\n",
      "              precision    recall  f1-score   support\n",
      "\n",
      "           1       0.85      0.08      0.15       570\n",
      "           2       0.65      0.14      0.23      8193\n",
      "           3       0.79      0.98      0.88     29200\n",
      "\n",
      "    accuracy                           0.79     37963\n",
      "   macro avg       0.77      0.40      0.42     37963\n",
      "weighted avg       0.76      0.79      0.73     37963\n",
      "\n"
     ]
    }
   ],
   "source": [
    "from sklearn.metrics import classification_report, accuracy_score\n",
    "\n",
    "best_params = {\n",
    "    'num_leaves': 192,\n",
    "    'max_depth': 16,\n",
    "    'learning_rate':  0.09966159921985593,\n",
    "    'min_child_samples': 20,\n",
    "    'objective': 'multiclass',\n",
    "    'num_class': 3,\n",
    "    'metric': 'multi_logloss',\n",
    "    'verbosity': -1,\n",
    "    'random_state': 42\n",
    "}\n",
    "\n",
    "final_model = lgb.LGBMClassifier(**best_params)\n",
    "final_model.fit(X_train, y_train)\n",
    "\n",
    "y_pred = final_model.predict(X_test)\n",
    "print(\"Test Accuracy:\", accuracy_score(y_test, y_pred))\n",
    "print(classification_report(y_test, y_pred))"
   ]
  },
  {
   "cell_type": "code",
   "execution_count": 18,
   "id": "cc2b6357",
   "metadata": {},
   "outputs": [
    {
     "name": "stdout",
     "output_type": "stream",
     "text": [
      "Missing values in X_train: location_easting_osgr                      27\n",
      "location_northing_osgr                     27\n",
      "longitude                                  27\n",
      "latitude                                   27\n",
      "police_force                                0\n",
      "number_of_vehicles                          0\n",
      "day_of_week                                 0\n",
      "first_road_class                            0\n",
      "first_road_number                           0\n",
      "road_type                                   0\n",
      "speed_limit                                 0\n",
      "junction_detail                             0\n",
      "junction_control                            0\n",
      "second_road_class                           0\n",
      "second_road_number                          0\n",
      "pedestrian_crossing_human_control           0\n",
      "pedestrian_crossing_physical_facilities     0\n",
      "light_conditions                            0\n",
      "weather_conditions                          0\n",
      "road_surface_conditions                     0\n",
      "special_conditions_at_site                  0\n",
      "carriageway_hazards                         0\n",
      "urban_or_rural_area                         0\n",
      "trunk_road_flag                             0\n",
      "vehicle_type                                0\n",
      "towing_and_articulation                     0\n",
      "vehicle_manoeuvre                           0\n",
      "vehicle_direction_from                      0\n",
      "vehicle_direction_to                        0\n",
      "vehicle_location_restricted_lane            0\n",
      "junction_location                           0\n",
      "vehicle_left_hand_drive                     0\n",
      "journey_purpose_of_driver                   0\n",
      "sex_of_driver                               0\n",
      "age_of_driver                               0\n",
      "age_band_of_driver                          0\n",
      "engine_capacity_cc                          0\n",
      "propulsion_code                             0\n",
      "age_of_vehicle                              0\n",
      "driver_imd_decile                           0\n",
      "driver_home_area_type                       0\n",
      "escooter_flag                               0\n",
      "month                                       0\n",
      "season                                      0\n",
      "hour                                        0\n",
      "rush_hour                                   0\n",
      "local_authority_ons_district_freq_enc       0\n",
      "dtype: int64\n"
     ]
    }
   ],
   "source": [
    "# check if X-train has any missing values\n",
    "print(\"Missing values in X_train:\", X_train.isnull().sum())"
   ]
  },
  {
   "cell_type": "code",
   "execution_count": null,
   "id": "03bf9bf2",
   "metadata": {},
   "outputs": [],
   "source": [
    "# Required packages\n",
    "import numpy as np\n",
    "import pandas as pd\n",
    "from sklearn.model_selection import train_test_split\n",
    "from sklearn.ensemble import RandomForestClassifier, VotingClassifier\n",
    "from lightgbm import LGBMClassifier\n",
    "from sklearn.metrics import classification_report, recall_score\n",
    "from imblearn.combine import SMOTETomek\n",
    "\n",
    "# -----------------------------\n",
    "# 1. Split dataset\n",
    "# -----------------------------\n",
    "X_train, X_test, y_train, y_test = data.train_test_split()\n",
    "\n",
    "\n",
    "# -----------------------------\n",
    "# 2. Apply SMOTETomek oversampling\n",
    "# -----------------------------\n",
    "smt = SMOTETomek(\n",
    "    sampling_strategy={1: 100_000, 2: 250_000}, \n",
    "    random_state=42\n",
    ")\n",
    "X_res, y_res = smt.fit_resample(X_train, y_train)\n",
    "\n",
    "# -----------------------------\n",
    "# 3. Define base models\n",
    "# -----------------------------\n",
    "lgb_model = LGBMClassifier(\n",
    "    objective='multiclass',\n",
    "    num_class=len(np.unique(y_res)),\n",
    "    boosting_type='gbdt',\n",
    "    n_estimators=200,\n",
    "    class_weight={1:5, 2:2, 3:1},  # Emphasize rare classes\n",
    "    random_state=42\n",
    ")\n",
    "\n",
    "rf_model = RandomForestClassifier(\n",
    "    n_estimators=300,\n",
    "    max_depth=20,\n",
    "    class_weight={1:5, 2:2, 3:1},\n",
    "    random_state=42\n",
    ")\n",
    "estimators = [\n",
    "    ('lgbm1', lgb.LGBMClassifier(num_class=3, objective='multiclass')),\n",
    "    ('lgbm2', lgb.LGBMClassifier(num_class=3, objective='multiclass'))\n",
    "]\n",
    "\n",
    "ensemble = VotingClassifier(estimators=estimators, voting='soft')\n",
    "\n",
    "# -----------------------------\n",
    "# 5. Fit ensemble on oversampled data\n",
    "# -----------------------------\n",
    "ensemble.fit(X_res, y_res)\n",
    "\n",
    "# -----------------------------\n",
    "# 6. Predict probabilities\n",
    "# -----------------------------\n",
    "y_proba = ensemble.predict_proba(X_test)  # list of arrays per class\n",
    "\n",
    "# -----------------------------\n",
    "# 7. Threshold tuning for rare classes\n",
    "# -----------------------------\n",
    "# Example thresholds: lower threshold for class 1 to catch more rare events\n",
    "thresholds = {1: 0.2, 2: 0.3, 3: 0.5}  \n",
    "\n",
    "y_pred = []\n",
    "for probs in y_proba:\n",
    "\n",
    "    pred_class = ensemble.classes_[np.argmax(probs)]  # returns an array of predicted class indices\n",
    "    # Adjust thresholds\n",
    "    for cls, thr in thresholds.items():\n",
    "        if probs[cls-1] >= thr:  # cls-1 because predict_proba is 0-indexed\n",
    "            pred_class = cls\n",
    "            break\n",
    "    y_pred.append(pred_class)\n",
    "\n",
    "# -----------------------------\n",
    "# 8. Evaluate\n",
    "# -----------------------------\n",
    "print(classification_report(y_test, y_pred))\n",
    "macro_recall = recall_score(y_test, y_pred, average='macro')\n",
    "print(\"Macro Recall:\", macro_recall)\n"
   ]
  },
  {
   "cell_type": "markdown",
   "id": "4cab0e40",
   "metadata": {},
   "source": [
    "## BalancedRandomForestClassifier"
   ]
  },
  {
   "cell_type": "code",
   "execution_count": 66,
   "id": "f62a3291",
   "metadata": {},
   "outputs": [
    {
     "name": "stdout",
     "output_type": "stream",
     "text": [
      "              precision    recall  f1-score   support\n",
      "\n",
      "           1      0.055     0.766     0.103      1630\n",
      "           2      0.304     0.391     0.342     23687\n",
      "           3      0.869     0.597     0.708     88644\n",
      "\n",
      "    accuracy                          0.556    113961\n",
      "   macro avg      0.410     0.584     0.384    113961\n",
      "weighted avg      0.740     0.556     0.623    113961\n",
      "\n",
      "Macro Recall: 0.584\n"
     ]
    }
   ],
   "source": [
    "# 1️⃣ Imports\n",
    "import numpy as np\n",
    "import pandas as pd\n",
    "from imblearn.ensemble import BalancedRandomForestClassifier\n",
    "from sklearn.model_selection import train_test_split\n",
    "from sklearn.metrics import classification_report, recall_score\n",
    "\n",
    "# # 2️⃣ Split your data\n",
    "# X_train, X_test, y_train, y_test = train_test_split(\n",
    "#     X_res, y_res, test_size=0.2, random_state=42, stratify=y_res\n",
    "# )\n",
    "\n",
    "# 3️⃣ Initialize BalancedRandomForest\n",
    "ensemble = BalancedRandomForestClassifier(\n",
    "    n_estimators=500,\n",
    "    max_depth=None,\n",
    "    random_state=42,\n",
    "    n_jobs=-1,\n",
    "    sampling_strategy='auto',  # custom targets,\n",
    "    max_features= \"log2\",\n",
    "    min_samples_split=10,\n",
    "    min_samples_leaf=5\n",
    ")\n",
    "\n",
    "\n",
    "# 4️⃣ Fit model\n",
    "ensemble.fit(X_train, y_train)\n",
    "\n",
    "# 5️⃣ Predict and evaluate\n",
    "y_pred = ensemble.predict(X_test)\n",
    "\n",
    "print(classification_report(y_test, y_pred, digits=3))\n",
    "macro_recall = recall_score(y_test, y_pred, average='macro')\n",
    "print(f\"Macro Recall: {macro_recall:.3f}\")\n"
   ]
  },
  {
   "cell_type": "code",
   "execution_count": 10,
   "id": "2f4a7297",
   "metadata": {},
   "outputs": [
    {
     "ename": "TypeError",
     "evalue": "All intermediate steps of the chain should be estimators that implement fit and transform or fit_resample (but not both) or be a string 'passthrough' '(SMOTE(random_state=42, sampling_strategy={1: 8000, 2: 6000}),)' (type <class 'tuple'>) doesn't)",
     "output_type": "error",
     "traceback": [
      "\u001b[31m---------------------------------------------------------------------------\u001b[39m",
      "\u001b[31mTypeError\u001b[39m                                 Traceback (most recent call last)",
      "\u001b[36mCell\u001b[39m\u001b[36m \u001b[39m\u001b[32mIn[10]\u001b[39m\u001b[32m, line 48\u001b[39m\n\u001b[32m     30\u001b[39m \u001b[38;5;66;03m# clf = RandomForestClassifier(\u001b[39;00m\n\u001b[32m     31\u001b[39m \u001b[38;5;66;03m#         n_estimators=500,\u001b[39;00m\n\u001b[32m     32\u001b[39m \u001b[38;5;66;03m#         max_depth=None,\u001b[39;00m\n\u001b[32m   (...)\u001b[39m\u001b[32m     38\u001b[39m \u001b[38;5;66;03m#         n_jobs=-1  # parallelize *here*\u001b[39;00m\n\u001b[32m     39\u001b[39m \u001b[38;5;66;03m#     )\u001b[39;00m\n\u001b[32m     41\u001b[39m pipeline = Pipeline([\n\u001b[32m     42\u001b[39m (\u001b[33m\"\u001b[39m\u001b[33msmote\u001b[39m\u001b[33m\"\u001b[39m, (SMOTE(random_state=\u001b[32m42\u001b[39m, sampling_strategy={\u001b[32m1\u001b[39m: \u001b[32m8000\u001b[39m, \u001b[32m2\u001b[39m: \u001b[32m6000\u001b[39m}),)), \n\u001b[32m     43\u001b[39m (\u001b[33m\"\u001b[39m\u001b[33munder\u001b[39m\u001b[33m\"\u001b[39m, under),\n\u001b[32m     44\u001b[39m     (\u001b[33m\"\u001b[39m\u001b[33mclf\u001b[39m\u001b[33m\"\u001b[39m, lightgm)\n\u001b[32m     45\u001b[39m ])\n\u001b[32m---> \u001b[39m\u001b[32m48\u001b[39m \u001b[43mpipeline\u001b[49m\u001b[43m.\u001b[49m\u001b[43mfit\u001b[49m\u001b[43m(\u001b[49m\u001b[43mX_train\u001b[49m\u001b[43m,\u001b[49m\u001b[43m \u001b[49m\u001b[43my_train\u001b[49m\u001b[43m)\u001b[49m\n\u001b[32m     50\u001b[39m \u001b[38;5;66;03m# Predict probabilities\u001b[39;00m\n\u001b[32m     51\u001b[39m y_proba = pipeline.predict_proba(X_test)\n",
      "\u001b[36mFile \u001b[39m\u001b[32m~/miniconda3/envs/UK/lib/python3.11/site-packages/sklearn/base.py:1389\u001b[39m, in \u001b[36m_fit_context.<locals>.decorator.<locals>.wrapper\u001b[39m\u001b[34m(estimator, *args, **kwargs)\u001b[39m\n\u001b[32m   1382\u001b[39m     estimator._validate_params()\n\u001b[32m   1384\u001b[39m \u001b[38;5;28;01mwith\u001b[39;00m config_context(\n\u001b[32m   1385\u001b[39m     skip_parameter_validation=(\n\u001b[32m   1386\u001b[39m         prefer_skip_nested_validation \u001b[38;5;129;01mor\u001b[39;00m global_skip_validation\n\u001b[32m   1387\u001b[39m     )\n\u001b[32m   1388\u001b[39m ):\n\u001b[32m-> \u001b[39m\u001b[32m1389\u001b[39m     \u001b[38;5;28;01mreturn\u001b[39;00m \u001b[43mfit_method\u001b[49m\u001b[43m(\u001b[49m\u001b[43mestimator\u001b[49m\u001b[43m,\u001b[49m\u001b[43m \u001b[49m\u001b[43m*\u001b[49m\u001b[43margs\u001b[49m\u001b[43m,\u001b[49m\u001b[43m \u001b[49m\u001b[43m*\u001b[49m\u001b[43m*\u001b[49m\u001b[43mkwargs\u001b[49m\u001b[43m)\u001b[49m\n",
      "\u001b[36mFile \u001b[39m\u001b[32m~/miniconda3/envs/UK/lib/python3.11/site-packages/imblearn/pipeline.py:518\u001b[39m, in \u001b[36mPipeline.fit\u001b[39m\u001b[34m(self, X, y, **params)\u001b[39m\n\u001b[32m    511\u001b[39m     \u001b[38;5;28;01mraise\u001b[39;00m \u001b[38;5;167;01mValueError\u001b[39;00m(\n\u001b[32m    512\u001b[39m         \u001b[33m\"\u001b[39m\u001b[33mThe `transform_input` parameter is not supported in scikit-learn \u001b[39m\u001b[33m\"\u001b[39m\n\u001b[32m    513\u001b[39m         \u001b[33m\"\u001b[39m\u001b[33mversions prior to 1.4. Please upgrade to scikit-learn 1.4 or \u001b[39m\u001b[33m\"\u001b[39m\n\u001b[32m    514\u001b[39m         \u001b[33m\"\u001b[39m\u001b[33mlater.\u001b[39m\u001b[33m\"\u001b[39m\n\u001b[32m    515\u001b[39m     )\n\u001b[32m    517\u001b[39m routed_params = \u001b[38;5;28mself\u001b[39m._check_method_params(method=\u001b[33m\"\u001b[39m\u001b[33mfit\u001b[39m\u001b[33m\"\u001b[39m, props=params)\n\u001b[32m--> \u001b[39m\u001b[32m518\u001b[39m Xt, yt = \u001b[38;5;28;43mself\u001b[39;49m\u001b[43m.\u001b[49m\u001b[43m_fit\u001b[49m\u001b[43m(\u001b[49m\u001b[43mX\u001b[49m\u001b[43m,\u001b[49m\u001b[43m \u001b[49m\u001b[43my\u001b[49m\u001b[43m,\u001b[49m\u001b[43m \u001b[49m\u001b[43mrouted_params\u001b[49m\u001b[43m,\u001b[49m\u001b[43m \u001b[49m\u001b[43mraw_params\u001b[49m\u001b[43m=\u001b[49m\u001b[43mparams\u001b[49m\u001b[43m)\u001b[49m\n\u001b[32m    519\u001b[39m \u001b[38;5;28;01mwith\u001b[39;00m _print_elapsed_time(\u001b[33m\"\u001b[39m\u001b[33mPipeline\u001b[39m\u001b[33m\"\u001b[39m, \u001b[38;5;28mself\u001b[39m._log_message(\u001b[38;5;28mlen\u001b[39m(\u001b[38;5;28mself\u001b[39m.steps) - \u001b[32m1\u001b[39m)):\n\u001b[32m    520\u001b[39m     \u001b[38;5;28;01mif\u001b[39;00m \u001b[38;5;28mself\u001b[39m._final_estimator != \u001b[33m\"\u001b[39m\u001b[33mpassthrough\u001b[39m\u001b[33m\"\u001b[39m:\n",
      "\u001b[36mFile \u001b[39m\u001b[32m~/miniconda3/envs/UK/lib/python3.11/site-packages/imblearn/pipeline.py:400\u001b[39m, in \u001b[36mPipeline._fit\u001b[39m\u001b[34m(self, X, y, routed_params, raw_params)\u001b[39m\n\u001b[32m    398\u001b[39m \u001b[38;5;28;01mdef\u001b[39;00m\u001b[38;5;250m \u001b[39m\u001b[34m_fit\u001b[39m(\u001b[38;5;28mself\u001b[39m, X, y=\u001b[38;5;28;01mNone\u001b[39;00m, routed_params=\u001b[38;5;28;01mNone\u001b[39;00m, raw_params=\u001b[38;5;28;01mNone\u001b[39;00m):\n\u001b[32m    399\u001b[39m     \u001b[38;5;28mself\u001b[39m.steps = \u001b[38;5;28mlist\u001b[39m(\u001b[38;5;28mself\u001b[39m.steps)\n\u001b[32m--> \u001b[39m\u001b[32m400\u001b[39m     \u001b[38;5;28;43mself\u001b[39;49m\u001b[43m.\u001b[49m\u001b[43m_validate_steps\u001b[49m\u001b[43m(\u001b[49m\u001b[43m)\u001b[49m\n\u001b[32m    401\u001b[39m     \u001b[38;5;66;03m# Setup the memory\u001b[39;00m\n\u001b[32m    402\u001b[39m     memory = check_memory(\u001b[38;5;28mself\u001b[39m.memory)\n",
      "\u001b[36mFile \u001b[39m\u001b[32m~/miniconda3/envs/UK/lib/python3.11/site-packages/imblearn/pipeline.py:273\u001b[39m, in \u001b[36mPipeline._validate_steps\u001b[39m\u001b[34m(self)\u001b[39m\n\u001b[32m    270\u001b[39m is_not_transfomer_or_sampler = \u001b[38;5;129;01mnot\u001b[39;00m (is_transfomer \u001b[38;5;129;01mor\u001b[39;00m is_sampler)\n\u001b[32m    272\u001b[39m \u001b[38;5;28;01mif\u001b[39;00m is_not_transfomer_or_sampler:\n\u001b[32m--> \u001b[39m\u001b[32m273\u001b[39m     \u001b[38;5;28;01mraise\u001b[39;00m \u001b[38;5;167;01mTypeError\u001b[39;00m(\n\u001b[32m    274\u001b[39m         \u001b[33m\"\u001b[39m\u001b[33mAll intermediate steps of the chain should \u001b[39m\u001b[33m\"\u001b[39m\n\u001b[32m    275\u001b[39m         \u001b[33m\"\u001b[39m\u001b[33mbe estimators that implement fit and transform or \u001b[39m\u001b[33m\"\u001b[39m\n\u001b[32m    276\u001b[39m         \u001b[33m\"\u001b[39m\u001b[33mfit_resample (but not both) or be a string \u001b[39m\u001b[33m'\u001b[39m\u001b[33mpassthrough\u001b[39m\u001b[33m'\u001b[39m\u001b[33m \u001b[39m\u001b[33m\"\u001b[39m\n\u001b[32m    277\u001b[39m         \u001b[33m\"\u001b[39m\u001b[33m'\u001b[39m\u001b[38;5;132;01m%s\u001b[39;00m\u001b[33m'\u001b[39m\u001b[33m (type \u001b[39m\u001b[38;5;132;01m%s\u001b[39;00m\u001b[33m) doesn\u001b[39m\u001b[33m'\u001b[39m\u001b[33mt)\u001b[39m\u001b[33m\"\u001b[39m % (t, \u001b[38;5;28mtype\u001b[39m(t))\n\u001b[32m    278\u001b[39m     )\n\u001b[32m    280\u001b[39m \u001b[38;5;28;01mif\u001b[39;00m is_transfomer \u001b[38;5;129;01mand\u001b[39;00m is_sampler:\n\u001b[32m    281\u001b[39m     \u001b[38;5;28;01mraise\u001b[39;00m \u001b[38;5;167;01mTypeError\u001b[39;00m(\n\u001b[32m    282\u001b[39m         \u001b[33m\"\u001b[39m\u001b[33mAll intermediate steps of the chain should \u001b[39m\u001b[33m\"\u001b[39m\n\u001b[32m    283\u001b[39m         \u001b[33m\"\u001b[39m\u001b[33mbe estimators that implement fit and transform or \u001b[39m\u001b[33m\"\u001b[39m\n\u001b[32m    284\u001b[39m         \u001b[33m\"\u001b[39m\u001b[33mfit_resample.\u001b[39m\u001b[33m\"\u001b[39m\n\u001b[32m    285\u001b[39m         \u001b[33m\"\u001b[39m\u001b[33m \u001b[39m\u001b[33m'\u001b[39m\u001b[38;5;132;01m%s\u001b[39;00m\u001b[33m'\u001b[39m\u001b[33m implements both)\u001b[39m\u001b[33m\"\u001b[39m % (t)\n\u001b[32m    286\u001b[39m     )\n",
      "\u001b[31mTypeError\u001b[39m: All intermediate steps of the chain should be estimators that implement fit and transform or fit_resample (but not both) or be a string 'passthrough' '(SMOTE(random_state=42, sampling_strategy={1: 8000, 2: 6000}),)' (type <class 'tuple'>) doesn't)"
     ]
    }
   ],
   "source": [
    "import pandas as pd\n",
    "import numpy as np\n",
    "from sklearn.model_selection import train_test_split, StratifiedKFold\n",
    "from sklearn.preprocessing import OneHotEncoder\n",
    "from sklearn.compose import ColumnTransformer\n",
    "from imblearn.pipeline import Pipeline\n",
    "from imblearn.over_sampling import SMOTE\n",
    "from imblearn.under_sampling import RandomUnderSampler\n",
    "from lightgbm import LGBMClassifier\n",
    "from sklearn.metrics import classification_report, confusion_matrix, precision_recall_curve, average_precision_score\n",
    "import matplotlib.pyplot as plt\n",
    "\n",
    "# 1️⃣ Build a two‐step sampler pipeline\n",
    "\n",
    "smote = SMOTE(sampling_strategy={1: 8000, 2: 6000}, random_state=42),\n",
    "    \n",
    "under = RandomUnderSampler(sampling_strategy={3: 15000}, random_state=42),\n",
    "\n",
    "lightgm = LGBMClassifier(\n",
    "        n_estimators=300,\n",
    "        max_depth=20,\n",
    "        learning_rate=0.05,\n",
    "        num_leaves=63,\n",
    "        reg_lambda=1.0,\n",
    "        class_weight={1: 35, 2: 5, 3: 1},\n",
    "        objective='multiclass',\n",
    "        random_state=42),\n",
    "        \n",
    "        \n",
    "# clf = RandomForestClassifier(\n",
    "#         n_estimators=500,\n",
    "#         max_depth=None,\n",
    "#         min_samples_split=10,\n",
    "#         min_samples_leaf=5,\n",
    "#         max_features='log2',\n",
    "#         class_weight='balanced',\n",
    "#         random_state=42,\n",
    "#         n_jobs=-1  # parallelize *here*\n",
    "#     )\n",
    "\n",
    "pipeline = Pipeline([\n",
    "(\"smote\", (SMOTE(random_state=42, sampling_strategy={1: 8000, 2: 6000}),)), \n",
    "(\"under\", under),\n",
    "    (\"clf\", lightgm)\n",
    "])\n",
    "\n",
    "\n",
    "pipeline.fit(X_train, y_train)\n",
    "\n",
    "# Predict probabilities\n",
    "y_proba = pipeline.predict_proba(X_test)\n",
    "\n",
    "# Plot PR curves for each class\n",
    "classes = pipeline.named_steps['clf'].classes_\n",
    "plt.figure(figsize=(8,6))\n",
    "for i, cls in enumerate(classes):\n",
    "    precision, recall, _ = precision_recall_curve(y_test == cls, y_proba[:, i])\n",
    "    ap = average_precision_score(y_test == cls, y_proba[:, i])\n",
    "    plt.plot(recall, precision, label=f\"Class {cls} (AP={ap:.2f})\")\n",
    "plt.xlabel(\"Recall\")\n",
    "plt.ylabel(\"Precision\")\n",
    "plt.title(\"Precision–Recall Curves by Class\")\n",
    "plt.legend()\n",
    "plt.grid(True)\n",
    "plt.show()\n",
    "\n"
   ]
  },
  {
   "cell_type": "code",
   "execution_count": 12,
   "id": "4d1ca774",
   "metadata": {},
   "outputs": [
    {
     "name": "stdout",
     "output_type": "stream",
     "text": [
      "[LightGBM] [Info] Auto-choosing col-wise multi-threading, the overhead of testing was 0.101643 seconds.\n",
      "You can set `force_col_wise=true` to remove the overhead.\n",
      "[LightGBM] [Info] Total Bins 2682\n",
      "[LightGBM] [Info] Number of data points in the train set: 29000, number of used features: 47\n",
      "[LightGBM] [Info] Start training from score -0.149036\n",
      "[LightGBM] [Info] Start training from score -2.382628\n",
      "[LightGBM] [Info] Start training from score -3.075775\n",
      "\n",
      "Classification Report:\n",
      "              precision    recall  f1-score   support\n",
      "\n",
      "           1      0.058     0.743     0.107       533\n",
      "           2      0.279     0.542     0.368      8125\n",
      "           3      0.885     0.463     0.608     29305\n",
      "\n",
      "    accuracy                          0.484     37963\n",
      "   macro avg      0.407     0.583     0.361     37963\n",
      "weighted avg      0.744     0.484     0.550     37963\n",
      "\n",
      "Confusion Matrix:\n",
      "[[  396   117    20]\n",
      " [ 1983  4404  1738]\n",
      " [ 4469 11270 13566]]\n"
     ]
    },
    {
     "data": {
      "image/png": "[encoded data removed]",
      "text/plain": [
       "<Figure size 800x600 with 1 Axes>"
      ]
     },
     "metadata": {},
     "output_type": "display_data"
    },
    {
     "name": "stdout",
     "output_type": "stream",
     "text": [
      "\n",
      "Custom threshold (0.2) applied for Fatal class — adjust in practice based on PR curve trade-offs.\n"
     ]
    }
   ],
   "source": [
    "import pandas as pd\n",
    "import numpy as np\n",
    "import matplotlib.pyplot as plt\n",
    "\n",
    "from sklearn.model_selection import train_test_split\n",
    "from sklearn.preprocessing import OneHotEncoder\n",
    "from sklearn.compose import ColumnTransformer\n",
    "from sklearn.metrics import classification_report, confusion_matrix, precision_recall_curve, average_precision_score\n",
    "\n",
    "from imblearn.pipeline import Pipeline\n",
    "from imblearn.over_sampling import SMOTE\n",
    "from imblearn.under_sampling import RandomUnderSampler\n",
    "\n",
    "from lightgbm import LGBMClassifier\n",
    "\n",
    "# =========================\n",
    "# 1. Load and prepare data\n",
    "# =========================\n",
    "# df = pd.read_csv(\"Accidents_2023.csv\")  # Replace with your path\n",
    "# X = df.drop(\"Accident_Severity\", axis=1)\n",
    "# y = df[\"Accident_Severity\"]\n",
    "\n",
    "# # Feature types\n",
    "# cat_feats = X.select_dtypes(include=\"object\").columns\n",
    "# num_feats = X.select_dtypes(exclude=\"object\").columns\n",
    "\n",
    "# # Preprocessor\n",
    "# preproc = ColumnTransformer([\n",
    "#     (\"cat\", OneHotEncoder(handle_unknown='ignore'), cat_feats),\n",
    "#     (\"num\", \"passthrough\", num_feats)\n",
    "# ])\n",
    "\n",
    "# =========================\n",
    "# 2. Define samplers & model\n",
    "# =========================\n",
    "# Aggressive oversampling for Fatal (1) and Serious (2)\n",
    "smote = SMOTE(sampling_strategy={1: 8000}, random_state=42)\n",
    "# Strong undersampling for Slight (3)\n",
    "under = RandomUnderSampler(sampling_strategy={2: 6000,3: 15000}, random_state=42)\n",
    "\n",
    "# LightGBM with custom class weights\n",
    "lgbm = LGBMClassifier(\n",
    "    n_estimators=300,\n",
    "    max_depth=20,\n",
    "    learning_rate=0.05,\n",
    "    num_leaves=63,\n",
    "    reg_lambda=1.0,\n",
    "    class_weight={1: 35, 2: 5, 3: 1},\n",
    "    objective='multiclass',\n",
    "    random_state=42\n",
    ")\n",
    "\n",
    "# =========================\n",
    "# 3. Build pipeline\n",
    "# =========================\n",
    "pipeline = Pipeline([\n",
    "    (\"smote\", smote),\n",
    "    (\"under\", under),\n",
    "    (\"clf\", lgbm)\n",
    "])\n",
    "\n",
    "# =========================\n",
    "# 4. Train/Test split\n",
    "# # =========================\n",
    "# X_train, X_test, y_train, y_test = train_test_split(\n",
    "#     X, y, test_size=0.2, stratify=y, random_state=42\n",
    "# )\n",
    "\n",
    "# =========================\n",
    "# 5. Fit model\n",
    "# =========================\n",
    "pipeline.fit(X_train, y_train)\n",
    "\n",
    "# =========================\n",
    "# 6. Evaluate\n",
    "# =========================\n",
    "y_pred = pipeline.predict(X_test)\n",
    "print(\"\\nClassification Report:\")\n",
    "print(classification_report(y_test, y_pred, digits=3))\n",
    "print(\"Confusion Matrix:\")\n",
    "print(confusion_matrix(y_test, y_pred))\n",
    "\n",
    "# =========================\n",
    "# 7. Precision–Recall curves\n",
    "# =========================\n",
    "y_proba = pipeline.predict_proba(X_test)\n",
    "classes = pipeline.named_steps['clf'].classes_\n",
    "\n",
    "plt.figure(figsize=(8,6))\n",
    "for i, cls in enumerate(classes):\n",
    "    precision, recall, _ = precision_recall_curve(y_test == cls, y_proba[:, i])\n",
    "    ap = average_precision_score(y_test == cls, y_proba[:, i])\n",
    "    plt.plot(recall, precision, label=f\"Class {cls} (AP={ap:.2f})\")\n",
    "\n",
    "plt.xlabel(\"Recall\")\n",
    "plt.ylabel(\"Precision\")\n",
    "plt.title(\"Precision–Recall Curves by Class\")\n",
    "plt.legend()\n",
    "plt.grid(True)\n",
    "plt.show()\n",
    "\n",
    "# =========================\n",
    "# 8. Example: Threshold tuning for Fatal (class 1)\n",
    "# =========================\n",
    "fatal_index = np.where(classes == 1)[0][0]\n",
    "fatal_probs = y_proba[:, fatal_index]\n",
    "\n",
    "# Pick a custom threshold (example: 0.20)\n",
    "threshold = 0.20\n",
    "fatal_preds = (fatal_probs >= threshold).astype(int)\n",
    "\n",
    "print(f\"\\nCustom threshold ({threshold}) applied for Fatal class — \"\n",
    "      f\"adjust in practice based on PR curve trade-offs.\")"
   ]
  },
  {
   "cell_type": "code",
   "execution_count": 13,
   "id": "ee091662",
   "metadata": {},
   "outputs": [
    {
     "data": {
      "text/plain": [
       "accident_severity\n",
       "3    117221\n",
       "2     32497\n",
       "1      2134\n",
       "Name: count, dtype: int64"
      ]
     },
     "execution_count": 13,
     "metadata": {},
     "output_type": "execute_result"
    }
   ],
   "source": [
    "y_train.value_counts()"
   ]
  },
  {
   "cell_type": "code",
   "execution_count": null,
   "id": "e3f4cfd1",
   "metadata": {},
   "outputs": [],
   "source": []
  }
 ],
 "metadata": {
  "kernelspec": {
   "display_name": "UK",
   "language": "python",
   "name": "python3"
  },
  "language_info": {
   "codemirror_mode": {
    "name": "ipython",
    "version": 3
   },
   "file_extension": ".py",
   "mimetype": "text/x-python",
   "name": "python",
   "nbconvert_exporter": "python",
   "pygments_lexer": "ipython3",
   "version": "3.11.13"
  }
 },
 "nbformat": 4,
 "nbformat_minor": 5
}
